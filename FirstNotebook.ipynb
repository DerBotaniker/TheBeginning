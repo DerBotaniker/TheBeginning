{
 "cells": [
  {
   "cell_type": "markdown",
   "id": "3c76511d-9f58-4db4-b0c9-eca405b40e60",
   "metadata": {},
   "source": [
    "# First Notebook"
   ]
  },
  {
   "cell_type": "markdown",
   "id": "85ab29bb-8780-4b8d-af53-b79aa3cb44f1",
   "metadata": {},
   "source": [
    "#### By DerBotaniker"
   ]
  },
  {
   "cell_type": "markdown",
   "id": "1bb23720-8a69-4521-99b8-dc6b85f25a50",
   "metadata": {
    "editable": true,
    "slideshow": {
     "slide_type": ""
    },
    "tags": []
   },
   "source": [
    "This shall be the peer-graded assignment for module six of the IBM coursera course \"Tools for Data Sciences\". "
   ]
  },
  {
   "cell_type": "markdown",
   "id": "9d905a24-66c6-417a-afd1-3f46c83912be",
   "metadata": {
    "editable": true,
    "slideshow": {
     "slide_type": ""
    },
    "tags": []
   },
   "source": [
    "For my data-based research following programming languages might be essential:\n",
    "1. Python\n",
    "2. R\n",
    "3. Julia"
   ]
  },
  {
   "cell_type": "markdown",
   "id": "3efd6da1-e8c8-41c8-b864-c02a2872de4a",
   "metadata": {
    "editable": true,
    "slideshow": {
     "slide_type": ""
    },
    "tags": []
   },
   "source": [
    "The handling of Python becomes easier with the usage of packages such:\n",
    "1. Matplotlib\n",
    "2. NumPy\n",
    "3. Pandas"
   ]
  },
  {
   "cell_type": "markdown",
   "id": "c83fcc7c-27ee-49d0-b478-75ba1071ffad",
   "metadata": {},
   "source": [
    " |Helpful Tools|\n",
    " |-------------|\n",
    " |Anaconda     |\n",
    " |JupyterLab   |\n",
    " |VS Code      |"
   ]
  },
  {
   "cell_type": "markdown",
   "id": "8e1bdead-3d44-4ab7-a1e1-ad04e435f517",
   "metadata": {},
   "source": [
    "Use +, -, /, * for arithmatic calculations like:\n",
    "1. 1+1=2\n",
    "2. 1-1=0\n",
    "3. 1/1=1\n",
    "4. 1*1=1"
   ]
  },
  {
   "cell_type": "code",
   "execution_count": 6,
   "id": "f88e15ea-ed4d-4d57-bfde-60c1c95e2caf",
   "metadata": {},
   "outputs": [
    {
     "name": "stdout",
     "output_type": "stream",
     "text": [
      "3\n",
      "2\n"
     ]
    }
   ],
   "source": [
    "x=1\n",
    "y=2\n",
    "print(x+y)\n",
    "print(x*y)"
   ]
  },
  {
   "cell_type": "code",
   "execution_count": 31,
   "id": "66680db0-2bb2-4fc2-82c6-d1d3b3588a37",
   "metadata": {},
   "outputs": [
    {
     "name": "stdin",
     "output_type": "stream",
     "text": [
      "Enter minutes here: 180\n"
     ]
    },
    {
     "name": "stdout",
     "output_type": "stream",
     "text": [
      "3.0\n"
     ]
    }
   ],
   "source": [
    "# Let's convert minutes into hours\n",
    "Faktor = 60\n",
    "Minutes = int(input(\"Enter minutes here:\"))\n",
    "print(Minutes/Faktor)"
   ]
  },
  {
   "cell_type": "markdown",
   "id": "f1df9534-b154-4e0c-88e8-6614b306e3d7",
   "metadata": {
    "editable": true,
    "slideshow": {
     "slide_type": ""
    },
    "tags": []
   },
   "source": [
    "I am supposed to list objectives here (not sure which):\n",
    "\n",
    "1. Improving my Python skills\n",
    "2. Improving my R skills\n",
    "3. Becoming a great scientist"
   ]
  }
 ],
 "metadata": {
  "authors": [
   {
    "name": "DerBotaniker"
   }
  ],
  "kernelspec": {
   "display_name": "Python 3 (ipykernel)",
   "language": "python",
   "name": "python3"
  },
  "language_info": {
   "codemirror_mode": {
    "name": "ipython",
    "version": 3
   },
   "file_extension": ".py",
   "mimetype": "text/x-python",
   "name": "python",
   "nbconvert_exporter": "python",
   "pygments_lexer": "ipython3",
   "version": "3.12.4"
  },
  "title": "First Notebook"
 },
 "nbformat": 4,
 "nbformat_minor": 5
}
